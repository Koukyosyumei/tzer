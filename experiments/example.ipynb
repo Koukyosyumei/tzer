{
 "cells": [
  {
   "cell_type": "code",
   "execution_count": 63,
   "id": "ec3e7da2-5ce5-423f-b3df-be31b840dfcb",
   "metadata": {},
   "outputs": [],
   "source": [
    "import cv2\n",
    "import numpy as np\n",
    "\n",
    "import tvm\n",
    "from tvm import relay\n",
    "from tvm.contrib import graph_executor\n",
    "from tvm.contrib.download import download_testdata\n",
    "\n",
    "import torch\n",
    "import torchvision\n",
    "from tqdm import tqdm"
   ]
  },
  {
   "cell_type": "code",
   "execution_count": 64,
   "id": "4365d20d-3395-4e54-b8bc-fee2834942fd",
   "metadata": {},
   "outputs": [],
   "source": [
    "import tvm\n",
    "from tvm import relay\n",
    "from tvm.contrib import graph_executor\n",
    "import numpy as np\n",
    "\n",
    "class NeuronCoverageTrackerTVM:\n",
    "    def __init__(self, mod, params, dummy_data, target_ops=[\"nn.conv2d\", \"nn.dense\"], threshold=0.9, opt_level=1, device=\"cpu\", input_name=\"input0\"):\n",
    "        self.mod = mod\n",
    "        self.params = params\n",
    "        self.target_ops = set(target_ops)\n",
    "        self.threshold = threshold\n",
    "        self.opt_level = opt_level\n",
    "        self.device = device\n",
    "        self.input_name = input_name\n",
    "\n",
    "        self.target = \"llvm\" if self.device == \"cpu\" else \"cuda\"\n",
    "        print(\"build model...\")\n",
    "        self.model = self._build_model()\n",
    "        print(\"build intermediate layers...\")\n",
    "        self.relay_layer_functions, self.layer_mods, self.layer_models = self._get_model_layers()\n",
    "        print(\"get the output sizes of each layer...\")\n",
    "        self.output_shape_of_layers = self._get_layer_output_sizes(dummy_data)\n",
    "        self.cov_tracker = {}\n",
    "\n",
    "    def _build_model(self):\n",
    "        with tvm.transform.PassContext(opt_level=self.opt_level):\n",
    "            lib = relay.build(self.mod, target=self.target, params=self.params)\n",
    "        return graph_executor.GraphModule(lib[\"default\"](tvm.device(self.target, 0)))\n",
    "\n",
    "    def _get_model_layers(self):\n",
    "        set_layers = set({})\n",
    "        layers = []\n",
    "        \n",
    "        def _traverse_expr(expr, set_layers, layers):\n",
    "            if isinstance(expr, relay.expr.Call):\n",
    "                if expr.op.name in self.target_ops:\n",
    "                    if expr not in set_layers:\n",
    "                        set_layers |= {expr}\n",
    "                        layers.append(expr)\n",
    "                for arg in expr.args:\n",
    "                    _traverse_expr(arg, set_layers, layers)\n",
    "            elif isinstance(expr, relay.expr.TupleGetItem):\n",
    "                for arg in expr.tuple_value.args:\n",
    "                    _traverse_expr(arg, set_layers, layers)\n",
    "                    \n",
    "        main_func = self.mod[\"main\"]\n",
    "        expr = main_func.body\n",
    "        _traverse_expr(expr, set_layers, layers)\n",
    "        \n",
    "        relay_layer_functions =  [relay.Function(main_func.params, layer) for layer in layers]\n",
    "        layer_mods = [tvm.IRModule.from_expr(rlf) for rlf in relay_layer_functions]\n",
    "        layer_libs = []\n",
    "        for lm in tqdm(layer_mods):\n",
    "            with tvm.transform.PassContext(opt_level=self.opt_level):\n",
    "                lib = relay.build(lm, target=self.target, params=self.params)\n",
    "                layer_libs.append(lib)\n",
    "        layer_models = [graph_executor.GraphModule(lib[\"default\"](tvm.device(self.target, 0))) for lib in layer_libs]\n",
    "        return relay_layer_functions, layer_mods, layer_models\n",
    "\n",
    "    def _get_layer_output_sizes(self, dummy_data):\n",
    "        output_shapes = []\n",
    "        \n",
    "        for tmp_model in self.layer_models:\n",
    "            tmp_model.set_input(self.input_name, tvm.nd.array(input_data))\n",
    "            tmp_model.run()\n",
    "            output_shapes.append(tmp_model.get_output(0).asnumpy().shape)\n",
    "\n",
    "        return output_shapes\n",
    "\n",
    "    def _get_intermediate_outputs(self, data, layer_idx):\n",
    "        tmp_model = self.layer_models[layer_idx]\n",
    "        tmp_model.set_input(self.input_name, tvm.nd.array(input_data))\n",
    "        tmp_model.run()\n",
    "        return tmp_model.get_output(0).asnumpy()\n",
    "\n",
    "    def _init_cov_tracker(self):\n",
    "        for i, layer_shape in enumerate(self.output_shape_of_layers):\n",
    "            self.cov_tracker[i] = np.zeros(layer_shape, dtype=bool)\n",
    "\n",
    "    def _update_cov_tracker(self, x):\n",
    "        for i in range(len(self.layer_models)):\n",
    "            layer_output = self._get_intermediate_outputs(x, i)\n",
    "            layer_output_scaled = self._scale(layer_output)\n",
    "            mask_index = layer_output_scaled > self.threshold\n",
    "            self.cov_tracker[i] |= mask_index\n",
    "\n",
    "    def _scale(self, out, rmax=1, rmin=0):\n",
    "        out_std = (out - out.min()) / (out.max() - out.min())\n",
    "        return out_std * (rmax - rmin) + rmin\n",
    "\n",
    "    def coverage(self, dataloader, pos_of_x=None, initialize=True, update=True):\n",
    "        if initialize:\n",
    "            self._init_cov_tracker()\n",
    "        if not update:\n",
    "            cov_tracker_prev = self.cov_tracker.copy()\n",
    "\n",
    "        for data in dataloader:\n",
    "            x = data if pos_of_x is None else data[pos_of_x]\n",
    "            x = np.array(x)\n",
    "            self._update_cov_tracker(x)\n",
    "\n",
    "        num_covered_neurons = sum([np.sum(is_covered) for is_covered in self.cov_tracker.values()])\n",
    "        num_total_neurons = sum([len(is_covered.reshape(-1)) for is_covered in self.cov_tracker.values()])\n",
    "\n",
    "        if not update:\n",
    "            self.cov_tracker = cov_tracker_prev\n",
    "\n",
    "        return num_covered_neurons / num_total_neurons"
   ]
  },
  {
   "cell_type": "code",
   "execution_count": 65,
   "id": "ddf464c8-a8eb-40a5-aa6d-a0f24ca4200d",
   "metadata": {},
   "outputs": [],
   "source": [
    "model_name = \"resnet18\"\n",
    "model = getattr(torchvision.models, model_name)(pretrained=True)\n",
    "model = model.eval()\n",
    "\n",
    "# We grab the TorchScripted model via tracing\n",
    "input_shape = [1, 3, 224, 224]\n",
    "dummy_data = torch.randn(input_shape)\n",
    "scripted_model = torch.jit.trace(model, dummy_data).eval()\n",
    "\n",
    "input_name = \"input0\"\n",
    "shape_list = [(input_name, input_shape)]\n",
    "mod, params = relay.frontend.from_pytorch(scripted_model, shape_list)\n",
    "\n",
    "#print(model.maxpool(model.bn1(model.conv1(input_data))).shape)\n",
    "#print(model.layer1(model.maxpool(model.bn1(model.conv1(input_data)))).shape)\n",
    "#print(model.layer2(model.layer1(model.maxpool(model.bn1(model.conv1(input_data))))).shape)\n",
    "#print(model.layer3(model.layer2(model.layer1(model.maxpool(model.bn1(model.conv1(input_data)))))).shape)\n",
    "#print(model.layer4(model.layer3(model.layer2(model.layer1(model.maxpool(model.bn1(model.conv1(input_data))))))).shape)\n",
    "#print(model.avgpool(model.layer4(model.layer3(model.layer2(model.layer1(model.maxpool(model.bn1(model.conv1(input_data)))))))).shape)"
   ]
  },
  {
   "cell_type": "code",
   "execution_count": 66,
   "id": "872ca071-5d21-4714-b439-59c3832136e9",
   "metadata": {},
   "outputs": [
    {
     "name": "stdout",
     "output_type": "stream",
     "text": [
      "build model...\n",
      "build intermediate layers...\n"
     ]
    },
    {
     "name": "stderr",
     "output_type": "stream",
     "text": [
      "100%|███████████████████████████████████████████████████████████████████████████████████| 21/21 [01:10<00:00,  3.36s/it]\n"
     ]
    },
    {
     "name": "stdout",
     "output_type": "stream",
     "text": [
      "get the output sizes of each layer...\n"
     ]
    }
   ],
   "source": [
    "nct = NeuronCoverageTrackerTVM(mod, params, dummy_data)"
   ]
  },
  {
   "cell_type": "code",
   "execution_count": 67,
   "id": "a24b99e8-8671-428d-beba-312b88015322",
   "metadata": {},
   "outputs": [],
   "source": [
    "img_url = (\n",
    "    \"https://raw.githubusercontent.com/dmlc/web-data/master/gluoncv/detection/street_small.jpg\"\n",
    ")\n",
    "img_path = download_testdata(img_url, \"test_street_small.jpg\", module=\"data\")\n",
    "\n",
    "img = cv2.imread(img_path).astype(\"float32\")\n",
    "img = cv2.resize(img, (input_shape[-2], input_shape[-1]))\n",
    "img = cv2.cvtColor(img, cv2.COLOR_BGR2RGB)\n",
    "img = np.transpose(img / 255.0, [2, 0, 1])\n",
    "img = np.expand_dims(img, axis=0)"
   ]
  },
  {
   "cell_type": "code",
   "execution_count": 68,
   "id": "fc764e90-22c7-45de-9c9e-b643ec095d8f",
   "metadata": {},
   "outputs": [
    {
     "data": {
      "text/plain": [
       "0.0008061296439989826"
      ]
     },
     "execution_count": 68,
     "metadata": {},
     "output_type": "execute_result"
    }
   ],
   "source": [
    "nct.coverage([img])"
   ]
  },
  {
   "cell_type": "code",
   "execution_count": 57,
   "id": "ce1c491a-f096-42e9-a1dd-2146e5024fc3",
   "metadata": {},
   "outputs": [
    {
     "data": {
      "text/plain": [
       "2003"
      ]
     },
     "execution_count": 57,
     "metadata": {},
     "output_type": "execute_result"
    }
   ],
   "source": [
    "sum([np.sum(is_covered) for is_covered in nct.cov_tracker.values()])"
   ]
  },
  {
   "cell_type": "code",
   "execution_count": 62,
   "id": "0e360626-7805-4946-a623-8b93d9308e25",
   "metadata": {},
   "outputs": [
    {
     "data": {
      "text/plain": [
       "0.0008061296439989826"
      ]
     },
     "execution_count": 62,
     "metadata": {},
     "output_type": "execute_result"
    }
   ],
   "source": [
    "sum([np.sum(is_covered) for is_covered in nct.cov_tracker.values()]) / sum([len(is_covered.reshape(-1)) for is_covered in nct.cov_tracker.values()])"
   ]
  },
  {
   "cell_type": "code",
   "execution_count": 60,
   "id": "919443f3-920e-4931-8afb-991179a8e720",
   "metadata": {},
   "outputs": [
    {
     "name": "stdout",
     "output_type": "stream",
     "text": [
      "(1, 1000)\n",
      "(1, 512, 7, 7)\n",
      "(1, 512, 7, 7)\n",
      "(1, 512, 7, 7)\n",
      "(1, 512, 7, 7)\n",
      "(1, 256, 14, 14)\n",
      "(1, 256, 14, 14)\n",
      "(1, 256, 14, 14)\n",
      "(1, 256, 14, 14)\n",
      "(1, 128, 28, 28)\n",
      "(1, 128, 28, 28)\n",
      "(1, 128, 28, 28)\n",
      "(1, 128, 28, 28)\n",
      "(1, 64, 56, 56)\n",
      "(1, 64, 56, 56)\n",
      "(1, 64, 56, 56)\n",
      "(1, 64, 56, 56)\n",
      "(1, 64, 112, 112)\n",
      "(1, 128, 28, 28)\n",
      "(1, 256, 14, 14)\n",
      "(1, 512, 7, 7)\n"
     ]
    }
   ],
   "source": [
    "for is_covered in nct.cov_tracker.values():\n",
    "    print(is_covered.reshape(-1))"
   ]
  },
  {
   "cell_type": "code",
   "execution_count": 11,
   "id": "6758a284-4316-4277-9357-9f5617ce5694",
   "metadata": {},
   "outputs": [
    {
     "name": "stderr",
     "output_type": "stream",
     "text": [
      "One or more operators have not been tuned. Please tune your model for better performance. Use DEBUG logging level to see more details.\n"
     ]
    }
   ],
   "source": [
    "target = \"llvm\"\n",
    "with tvm.transform.PassContext(opt_level=1):\n",
    "    lib = relay.build(mod, target=target, params=params)\n",
    "model = graph_executor.GraphModule(lib[\"default\"](tvm.device(target, 0)))"
   ]
  },
  {
   "cell_type": "code",
   "execution_count": 12,
   "id": "effc63f8-ef2b-4335-b688-4a366c6155e6",
   "metadata": {},
   "outputs": [],
   "source": [
    "main_func = mod[\"main\"]\n",
    "expr = main_func.body\n",
    "set_layers = set({})\n",
    "layers = []\n",
    "\n",
    "def traverse_expr(expr):\n",
    "    global set_layers, layers\n",
    "    if isinstance(expr, relay.expr.Call):\n",
    "        if expr.op.name == \"nn.conv2d\" or expr.op.name == \"nn.dense\":\n",
    "            if expr not in set_layers:\n",
    "                set_layers |= {expr}\n",
    "                layers.append(expr)\n",
    "        for arg in expr.args:\n",
    "            traverse_expr(arg)\n",
    "            \n",
    "    elif isinstance(expr, relay.expr.TupleGetItem):\n",
    "        for arg in expr.tuple_value.args:\n",
    "            traverse_expr(arg)\n",
    "\n",
    "traverse_expr(expr)"
   ]
  },
  {
   "cell_type": "code",
   "execution_count": 13,
   "id": "a15b1bc4-19bd-4a98-9429-872658ce2d00",
   "metadata": {},
   "outputs": [],
   "source": [
    "assert len(layers) == 21"
   ]
  },
  {
   "cell_type": "code",
   "execution_count": 14,
   "id": "3cc5262a-6552-47c0-9667-46341a34e86e",
   "metadata": {},
   "outputs": [],
   "source": [
    "relay_layer_functions = [relay.Function(main_func.params, layer) for layer in layers]\n",
    "layer_mods = [tvm.IRModule.from_expr(rlf) for rlf in relay_layer_functions]\n",
    "layer_libs = []\n",
    "\n",
    "target = \"llvm\" #if self.device == \"cpu\" else \"cuda\"\n",
    "for lm in layer_mods:\n",
    "    with tvm.transform.PassContext(opt_level=1):\n",
    "        lib = relay.build(lm, target=target, params=params)\n",
    "        layer_libs.append(lib)"
   ]
  },
  {
   "cell_type": "code",
   "execution_count": 15,
   "id": "b0d53f2a-8d7d-461f-97e0-fb2bebe4d841",
   "metadata": {},
   "outputs": [],
   "source": [
    "layer_models = [graph_executor.GraphModule(lib[\"default\"](tvm.device(target, 0))) for lib in layer_libs]"
   ]
  },
  {
   "cell_type": "code",
   "execution_count": 16,
   "id": "be911608-71fe-45a6-8ee9-0c886f6db1e7",
   "metadata": {},
   "outputs": [],
   "source": [
    "dummy_output_list = []\n",
    "\n",
    "for tmp_model in layer_models:\n",
    "    tmp_model.set_input(\"input0\", tvm.nd.array(input_data))\n",
    "    tmp_model.run()\n",
    "    dummy_output_list.append(tmp_model.get_output(0).asnumpy())"
   ]
  },
  {
   "cell_type": "code",
   "execution_count": 19,
   "id": "b9321d3a-fc3c-4577-a750-0d305f4246e3",
   "metadata": {},
   "outputs": [],
   "source": [
    "output_sizes = []\n",
    "for do in dummy_output_list:\n",
    "    output_sizes.append(do.shape[1:])"
   ]
  },
  {
   "cell_type": "code",
   "execution_count": 17,
   "id": "25b7a13a-8a6d-452d-9b09-b3729fcd0e35",
   "metadata": {},
   "outputs": [
    {
     "name": "stdout",
     "output_type": "stream",
     "text": [
      "(1, 1000)\n",
      "(1, 512, 7, 7)\n",
      "(1, 512, 7, 7)\n",
      "(1, 512, 7, 7)\n",
      "(1, 512, 7, 7)\n",
      "(1, 256, 14, 14)\n",
      "(1, 256, 14, 14)\n",
      "(1, 256, 14, 14)\n",
      "(1, 256, 14, 14)\n",
      "(1, 128, 28, 28)\n",
      "(1, 128, 28, 28)\n",
      "(1, 128, 28, 28)\n",
      "(1, 128, 28, 28)\n",
      "(1, 64, 56, 56)\n",
      "(1, 64, 56, 56)\n",
      "(1, 64, 56, 56)\n",
      "(1, 64, 56, 56)\n",
      "(1, 64, 112, 112)\n",
      "(1, 128, 28, 28)\n",
      "(1, 256, 14, 14)\n",
      "(1, 512, 7, 7)\n"
     ]
    }
   ],
   "source": [
    "for do in dummy_output_list:\n",
    "    print(do.shape)"
   ]
  },
  {
   "cell_type": "code",
   "execution_count": null,
   "id": "fb312e4c-0fae-46fe-a48b-988040a59924",
   "metadata": {},
   "outputs": [],
   "source": [
    "output_sizes = {}\n",
    "for i, (name, _) in enumerate(self.layer_dict.items()):\n",
    "    output = self._get_intermediate_outputs(dummy_data, i)\n",
    "    output_sizes[name] = output.shape[1:]\n",
    "return output_sizes"
   ]
  }
 ],
 "metadata": {
  "kernelspec": {
   "display_name": "Python 3 (ipykernel)",
   "language": "python",
   "name": "python3"
  },
  "language_info": {
   "codemirror_mode": {
    "name": "ipython",
    "version": 3
   },
   "file_extension": ".py",
   "mimetype": "text/x-python",
   "name": "python",
   "nbconvert_exporter": "python",
   "pygments_lexer": "ipython3",
   "version": "3.10.12"
  }
 },
 "nbformat": 4,
 "nbformat_minor": 5
}
